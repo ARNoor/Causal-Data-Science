{
  "nbformat": 4,
  "nbformat_minor": 0,
  "metadata": {
    "colab": {
      "provenance": [],
      "authorship_tag": "ABX9TyPl7gG+9imMBCSaI1MfNAil",
      "include_colab_link": true
    },
    "kernelspec": {
      "name": "python3",
      "display_name": "Python 3"
    },
    "language_info": {
      "name": "python"
    }
  },
  "cells": [
    {
      "cell_type": "markdown",
      "metadata": {
        "id": "view-in-github",
        "colab_type": "text"
      },
      "source": [
        "<a href=\"https://colab.research.google.com/github/ARNoor/Causal-Data-Science/blob/main/Colliders_Example.ipynb\" target=\"_parent\"><img src=\"https://colab.research.google.com/assets/colab-badge.svg\" alt=\"Open In Colab\"/></a>"
      ]
    },
    {
      "cell_type": "code",
      "source": [
        "import pandas as pd\n",
        "import numpy as np\n",
        "\n",
        "# Generate 1000 random numbers from a normal distribution\n",
        "random_numbers1 = np.random.normal(loc=0, scale=1, size=1000)\n",
        "random_numbers2 = np.random.normal(loc=0, scale=1, size=1000)\n",
        "\n",
        "# Calculate the 0.75 percentile of the sum of the two normal distributions\n",
        "summation = random_numbers1 + random_numbers2\n",
        "percentile_75 = np.percentile(summation, 75)\n",
        "\n",
        "# Create the third column based on the condition: if the summation exceeds that of the value of the 75 percentile, it would be 1, else 0\n",
        "third_column = np.where(summation > percentile_75, 1, 0)\n",
        "\n",
        "# Create the DataFrame\n",
        "df = pd.DataFrame({\n",
        "    'column1': random_numbers1,\n",
        "    'column2': random_numbers2,\n",
        "    'column3': third_column\n",
        "})"
      ],
      "metadata": {
        "id": "d3Zhhzc922PJ"
      },
      "execution_count": 12,
      "outputs": []
    },
    {
      "cell_type": "code",
      "source": [
        "correlation = df['column1'].corr(df['column2'])\n",
        "print(f\"The correlation between column1 and column2 is: {correlation}\")"
      ],
      "metadata": {
        "colab": {
          "base_uri": "https://localhost:8080/"
        },
        "id": "HYP0Hhun9a6w",
        "outputId": "1ab4ab6b-a252-45c9-e584-e9332aeac9f8"
      },
      "execution_count": 13,
      "outputs": [
        {
          "output_type": "stream",
          "name": "stdout",
          "text": [
            "The correlation between column1 and column2 is: -0.04774944041680628\n"
          ]
        }
      ]
    },
    {
      "cell_type": "markdown",
      "source": [
        "We can see, the random distributions are weakly correlated with each other."
      ],
      "metadata": {
        "id": "4zoDUOKQ9g4P"
      }
    },
    {
      "cell_type": "code",
      "source": [
        "correlation = df[df['column3'] == 1]['column1'].corr(df[df['column3'] == 1]['column2'])\n",
        "print(f\"The correlation between column1 and column2 when column3 == 1 is: {correlation}\")"
      ],
      "metadata": {
        "colab": {
          "base_uri": "https://localhost:8080/"
        },
        "id": "VKtam5j14KQN",
        "outputId": "eafe0722-4071-4d13-8fe0-040b800936df"
      },
      "execution_count": 14,
      "outputs": [
        {
          "output_type": "stream",
          "name": "stdout",
          "text": [
            "The correlation between column1 and column2 when column3 == 1 is: -0.6105318563132698\n"
          ]
        }
      ]
    },
    {
      "cell_type": "markdown",
      "source": [
        "Based on the condition: we can see now that, when they meet a certain criteria, like their summation is above the 75 percentile, they are strongly negatively correlated."
      ],
      "metadata": {
        "id": "q5kDQ8Hk99BH"
      }
    }
  ]
}